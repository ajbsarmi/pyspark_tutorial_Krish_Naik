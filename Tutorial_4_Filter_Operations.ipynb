{
 "cells": [
  {
   "cell_type": "markdown",
   "metadata": {},
   "source": [
    "# Pyspark Dataframes\n",
    "- Filter Operation\n",
    "- &,|,==\n",
    "- ~"
   ]
  },
  {
   "cell_type": "code",
   "execution_count": 1,
   "metadata": {},
   "outputs": [],
   "source": [
    "from pyspark.sql import SparkSession"
   ]
  },
  {
   "cell_type": "code",
   "execution_count": 2,
   "metadata": {},
   "outputs": [
    {
     "name": "stderr",
     "output_type": "stream",
     "text": [
      "25/02/26 18:34:52 WARN Utils: Your hostname, Ardens-MacBook-Pro.local resolves to a loopback address: 127.0.0.1; using 192.168.100.50 instead (on interface en0)\n",
      "25/02/26 18:34:52 WARN Utils: Set SPARK_LOCAL_IP if you need to bind to another address\n",
      "Setting default log level to \"WARN\".\n",
      "To adjust logging level use sc.setLogLevel(newLevel). For SparkR, use setLogLevel(newLevel).\n",
      "25/02/26 18:34:53 WARN NativeCodeLoader: Unable to load native-hadoop library for your platform... using builtin-java classes where applicable\n",
      "25/02/26 18:34:54 WARN Utils: Service 'SparkUI' could not bind on port 4040. Attempting port 4041.\n",
      "25/02/26 18:34:54 WARN Utils: Service 'SparkUI' could not bind on port 4041. Attempting port 4042.\n"
     ]
    }
   ],
   "source": [
    "spark=SparkSession.builder.appName('dataframe').getOrCreate()"
   ]
  },
  {
   "cell_type": "code",
   "execution_count": 3,
   "metadata": {},
   "outputs": [
    {
     "name": "stdout",
     "output_type": "stream",
     "text": [
      "+-----------------+----+----------+------+\n",
      "|             Name| Age|Experience|Salary|\n",
      "+-----------------+----+----------+------+\n",
      "|      Kaizer Tena|  32|        10|100000|\n",
      "|       Lizel Cruz|  31|        12| 34000|\n",
      "|             NULL|  35|        15| 58000|\n",
      "|  Mabel Sarmiento|  28|        14| 65000|\n",
      "| Aerold Sarmiento|  30|      NULL| 79000|\n",
      "|  Arden Sarmiento|  29|         8|  NULL|\n",
      "|  Aaron Sarmiento|  34|         9| 66000|\n",
      "|Abigael Sarmiento|NULL|         7| 99000|\n",
      "|             NULL|  36|      NULL| 11000|\n",
      "+-----------------+----+----------+------+\n",
      "\n"
     ]
    }
   ],
   "source": [
    "df_pysark=spark.read.csv('name_data.csv', header=True, inferSchema=True)\n",
    "df_pysark.show()"
   ]
  },
  {
   "cell_type": "markdown",
   "metadata": {},
   "source": [
    "### Filter Operations"
   ]
  },
  {
   "cell_type": "code",
   "execution_count": null,
   "metadata": {},
   "outputs": [
    {
     "name": "stdout",
     "output_type": "stream",
     "text": [
      "+----------+---+----------+------+\n",
      "|      Name|Age|Experience|Salary|\n",
      "+----------+---+----------+------+\n",
      "|Lizel Cruz| 31|        12| 34000|\n",
      "|      NULL| 35|        15| 58000|\n",
      "|      NULL| 36|      NULL| 11000|\n",
      "+----------+---+----------+------+\n",
      "\n"
     ]
    }
   ],
   "source": [
    "# Salary of the people less than or equal to 60,000\n",
    "df_pysark.filter(\"Salary<=60000\").show()"
   ]
  },
  {
   "cell_type": "code",
   "execution_count": 7,
   "metadata": {},
   "outputs": [
    {
     "name": "stdout",
     "output_type": "stream",
     "text": [
      "+----------+---+\n",
      "|      Name|Age|\n",
      "+----------+---+\n",
      "|Lizel Cruz| 31|\n",
      "|      NULL| 35|\n",
      "|      NULL| 36|\n",
      "+----------+---+\n",
      "\n"
     ]
    }
   ],
   "source": [
    "df_pysark.filter(\"Salary<=60000\").select(['Name','Age']).show()"
   ]
  },
  {
   "cell_type": "code",
   "execution_count": null,
   "metadata": {},
   "outputs": [
    {
     "name": "stdout",
     "output_type": "stream",
     "text": [
      "+----------+---+----------+------+\n",
      "|      Name|Age|Experience|Salary|\n",
      "+----------+---+----------+------+\n",
      "|Lizel Cruz| 31|        12| 34000|\n",
      "|      NULL| 35|        15| 58000|\n",
      "+----------+---+----------+------+\n",
      "\n"
     ]
    }
   ],
   "source": [
    "# Multiple conditions\n",
    "df_pysark.filter((df_pysark['Salary']<=60000) & \n",
    "                 (df_pysark['Salary']>=20000)).show()\n"
   ]
  },
  {
   "cell_type": "code",
   "execution_count": null,
   "metadata": {},
   "outputs": [
    {
     "name": "stdout",
     "output_type": "stream",
     "text": [
      "+-----------------+----+----------+------+\n",
      "|             Name| Age|Experience|Salary|\n",
      "+-----------------+----+----------+------+\n",
      "|      Kaizer Tena|  32|        10|100000|\n",
      "|  Mabel Sarmiento|  28|        14| 65000|\n",
      "| Aerold Sarmiento|  30|      NULL| 79000|\n",
      "|  Aaron Sarmiento|  34|         9| 66000|\n",
      "|Abigael Sarmiento|NULL|         7| 99000|\n",
      "+-----------------+----+----------+------+\n",
      "\n"
     ]
    }
   ],
   "source": [
    "# NOT operation\n",
    "df_pysark.filter(~(df_pysark['Salary']<=60000)).show()\n"
   ]
  },
  {
   "cell_type": "code",
   "execution_count": null,
   "metadata": {},
   "outputs": [],
   "source": []
  }
 ],
 "metadata": {
  "kernelspec": {
   "display_name": "Python 3",
   "language": "python",
   "name": "python3"
  },
  "language_info": {
   "codemirror_mode": {
    "name": "ipython",
    "version": 3
   },
   "file_extension": ".py",
   "mimetype": "text/x-python",
   "name": "python",
   "nbconvert_exporter": "python",
   "pygments_lexer": "ipython3",
   "version": "3.10.16"
  }
 },
 "nbformat": 4,
 "nbformat_minor": 2
}
